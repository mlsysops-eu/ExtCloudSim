{
 "cells": [
  {
   "cell_type": "code",
   "execution_count": null,
   "id": "8db63b03",
   "metadata": {},
   "outputs": [],
   "source": [
    "#\tImplemented by the Computer Systems Lab, University of Thessaly (https://csl.e-ce.uth.gr)\n",
    "#\tfor the MLSysOps project (https://mlsysops.eu)\n",
    "#\t \n",
    "#\tLicense: LGPL - https://www.gnu.org/licenses/lgpl-3.0.en.html\n",
    "#\t \n",
    "#\tCopyright (c) 2024, The University of Thessaly, Greece\n",
    "#\tContact:    Bowen Sun               bsun@uth.gr\n",
    "#               Christos Antonopoulos   cda@uth.gr\n",
    "#\n",
    "# This software is licensed for research and non-commercial use only.\n",
    "# \n",
    "# The above copyright notice and this permission notice shall be included in\n",
    "# all copies or substantial portions of the Software."
   ]
  },
  {
   "cell_type": "code",
   "execution_count": 1,
   "id": "aa900ea6-6629-4184-be0d-9d32d410e0c5",
   "metadata": {},
   "outputs": [],
   "source": [
    "import pandas as pd"
   ]
  },
  {
   "cell_type": "code",
   "execution_count": 2,
   "id": "91dce67b-7f79-4c78-b30a-a08e89797893",
   "metadata": {},
   "outputs": [],
   "source": [
    "readpath = \"/path/vm_cpu_readings-file-*-of-195.csv\""
   ]
  },
  {
   "cell_type": "code",
   "execution_count": 3,
   "id": "f4c9bb01-56cd-49af-a04b-0ed7e6cb5a73",
   "metadata": {},
   "outputs": [],
   "source": [
    "# Merge if needed\n",
    "import glob\n",
    "\n",
    "file_pattern = \"path/vm_cpu_readings-file-*-of-195.csv\"\n",
    "file_list = glob.glob(file_pattern)\n",
    "\n",
    "merged_df = pd.concat([pd.read_csv(file) for file in file_list], ignore_index=True)\n",
    "\n",
    "data = merged_df.copy()"
   ]
  },
  {
   "cell_type": "code",
   "execution_count": 4,
   "id": "672de65f-74bd-4674-b93b-630ef60c8cd3",
   "metadata": {},
   "outputs": [],
   "source": [
    "cpu_head = ['TimeStamp', 'VMID', 'MinCPU', 'MaxCPU', 'AvgCPU']\n",
    "cpu_df = pd.read_csv(readpath, header=None, names=cpu_head, index_col=False)"
   ]
  },
  {
   "cell_type": "code",
   "execution_count": 5,
   "id": "ed5ac947-55b7-43f1-bb3e-98b085717417",
   "metadata": {},
   "outputs": [],
   "source": [
    "vm_index = list(cpu_df.VMID.unique())"
   ]
  },
  {
   "cell_type": "code",
   "execution_count": 6,
   "id": "ca8bffb8-5c1e-41ac-8654-0e726d097369",
   "metadata": {},
   "outputs": [],
   "source": [
    "import os\n",
    "import numpy as np\n",
    "\n",
    "output_file_path = 'path/outputData/'\n",
    "avg_output_path = os.path.join(output_file_path, 'avg')\n",
    "max_output_path = os.path.join(output_file_path, 'max') # if max values are also needed\n",
    "\n",
    "# Create directories if they do not exist\n",
    "os.makedirs(avg_output_path, exist_ok=True)\n",
    "os.makedirs(max_output_path, exist_ok=True)\n",
    "\n",
    "data = cpu_df.copy()\n",
    "\n",
    "for i in range(len(vm_index)):\n",
    "    avgcpu_list = list(data[data.VMID == vm_index[i]].AvgCPU)\n",
    "    maxcpu_list = list(data[data.VMID == vm_index[i]].MaxCPU)\n",
    "\n",
    "    avgcpu_sample_frac = np.array(avgcpu_sample) / 100\n",
    "    maxcpu_sample_frac = np.array(maxcpu_sample) / 100\n",
    "\n",
    "    avg_file_path = os.path.join(avg_output_path, str(i + 1))\n",
    "    with open(avg_file_path, 'w') as file:\n",
    "        for value in avgcpu_sample_frac:\n",
    "            file.write(f\"{value:.10f}\\n\")\n",
    "\n",
    "    max_file_path = os.path.join(max_output_path, str(i + 1))\n",
    "    with open(max_file_path, 'w') as file:\n",
    "        for value in maxcpu_sample_frac:\n",
    "            file.write(f\"{value:.10f}\\n\")"
   ]
  },
  {
   "cell_type": "code",
   "execution_count": null,
   "id": "5d62d0a1-0fd5-49cb-baa3-bfd9b646a14f",
   "metadata": {},
   "outputs": [],
   "source": []
  }
 ],
 "metadata": {
  "kernelspec": {
   "display_name": "Python 3 (ipykernel)",
   "language": "python",
   "name": "python3"
  },
  "language_info": {
   "codemirror_mode": {
    "name": "ipython",
    "version": 3
   },
   "file_extension": ".py",
   "mimetype": "text/x-python",
   "name": "python",
   "nbconvert_exporter": "python",
   "pygments_lexer": "ipython3",
   "version": "3.10.12"
  }
 },
 "nbformat": 4,
 "nbformat_minor": 5
}
